{
 "cells": [
  {
   "cell_type": "markdown",
   "id": "9e960020",
   "metadata": {},
   "source": [
    "# **Primeiros Passos com APIs de IA Generativa: OpenAI e Gemini na Prática**"
   ]
  },
  {
   "cell_type": "markdown",
   "id": "40dd99bd",
   "metadata": {},
   "source": [
    "## **Install dependencies (if not installed yet)**"
   ]
  },
  {
   "cell_type": "code",
   "execution_count": null,
   "id": "4cf2eb9f",
   "metadata": {},
   "outputs": [],
   "source": [
    "# Install required packages (run only once per environment)\n",
    "%pip install openai python-dotenv"
   ]
  },
  {
   "cell_type": "markdown",
   "id": "46748d93",
   "metadata": {},
   "source": [
    "## **Import libraries**"
   ]
  },
  {
   "cell_type": "code",
   "execution_count": 1,
   "id": "f9723e85",
   "metadata": {},
   "outputs": [],
   "source": [
    "# Import required libraries\n",
    "import os\n",
    "from dotenv import load_dotenv\n",
    "from openai import OpenAI"
   ]
  },
  {
   "cell_type": "markdown",
   "id": "ca3e574d",
   "metadata": {},
   "source": [
    "## **Load environment variables**"
   ]
  },
  {
   "cell_type": "code",
   "execution_count": 2,
   "id": "3a4cce52",
   "metadata": {},
   "outputs": [
    {
     "data": {
      "text/plain": [
       "True"
      ]
     },
     "execution_count": 2,
     "metadata": {},
     "output_type": "execute_result"
    }
   ],
   "source": [
    "# Load environment variables from .env\n",
    "load_dotenv()"
   ]
  },
  {
   "cell_type": "code",
   "execution_count": 3,
   "id": "2d18311c",
   "metadata": {},
   "outputs": [],
   "source": [
    "# Retrieve API key and model from environment variables\n",
    "api_key = os.getenv(\"OPENAI_API_KEY\")\n",
    "model = os.getenv(\"OPENAI_MODEL\")  "
   ]
  },
  {
   "cell_type": "markdown",
   "id": "21f9ada5",
   "metadata": {},
   "source": [
    "## **Initialize OpenAI client**"
   ]
  },
  {
   "cell_type": "code",
   "execution_count": 4,
   "id": "1ae5eb0d",
   "metadata": {},
   "outputs": [],
   "source": [
    "# Initialize OpenAI Client\n",
    "client = OpenAI(api_key=api_key)"
   ]
  },
  {
   "cell_type": "markdown",
   "id": "91b66be3",
   "metadata": {},
   "source": [
    "## **Define a helper function to generate text**"
   ]
  },
  {
   "cell_type": "code",
   "execution_count": null,
   "id": "29ef3a7f",
   "metadata": {},
   "outputs": [],
   "source": [
    "# Define a function to generate text\n",
    "def generate_text(prompt:str) -> str:\n",
    "    \"\"\"Generates text using the specified OpenAI model.\n",
    "    - prompt: user input text (string)\n",
    "    - returns: model-generated text (string)\n",
    "    \"\"\"\n",
    "    response = client.responses.create(\n",
    "        model=model,\n",
    "        input=prompt \n",
    "    )\n",
    "    return response.output_text"
   ]
  },
  {
   "cell_type": "markdown",
   "id": "ead398e1",
   "metadata": {},
   "source": [
    "## **Test the function**"
   ]
  },
  {
   "cell_type": "code",
   "execution_count": 6,
   "id": "fb881a50",
   "metadata": {},
   "outputs": [],
   "source": [
    "# Example usage\n",
    "prompt = \"Write a motivational message for someone learning Python.\"\n",
    "result = generate_text(prompt)"
   ]
  },
  {
   "cell_type": "code",
   "execution_count": 7,
   "id": "3c8f8a21",
   "metadata": {},
   "outputs": [
    {
     "name": "stdout",
     "output_type": "stream",
     "text": [
      "Prompt: Write a motivational message for someone learning Python.\n",
      "Generated text: Absolutely! Here’s a motivational message for you:\n",
      "\n",
      "---\n",
      "\n",
      "🌟 **Keep Going!** 🌟\n",
      "\n",
      "Hey there, future Pythonista! 🎉 Learning Python can be challenging, but remember that every expert was once a beginner. Each line of code you write brings you closer to mastering the language. Embrace the mistakes—they are simply stepping stones to your success. \n",
      "\n",
      "Celebrate your progress, no matter how small, and don’t hesitate to ask for help when you need it. The coding community is incredibly supportive! \n",
      "\n",
      "Stay curious, keep experimenting, and don’t forget to have fun along the way. You’ve got this! Keep pushing forward, and soon you'll be solving problems and creating amazing projects with confidence. 🚀\n",
      "\n",
      "Happy coding! 🐍\n",
      "\n",
      "--- \n",
      "\n",
      "Keep believing in yourself! You've got the potential to achieve great things!\n"
     ]
    }
   ],
   "source": [
    "print(\"Prompt:\", prompt)\n",
    "print(\"Generated text:\", result)"
   ]
  },
  {
   "cell_type": "markdown",
   "id": "2f2fcd13",
   "metadata": {},
   "source": [
    "## **Try with your own prompts**"
   ]
  },
  {
   "cell_type": "code",
   "execution_count": 8,
   "id": "ff08c705",
   "metadata": {},
   "outputs": [
    {
     "data": {
      "text/plain": [
       "'Sure! Here are three creative names for a coffee shop:\\n\\n1. **Brewed Awakening**\\n2. **Café Canvas**\\n3. **Mugshot Mocha**'"
      ]
     },
     "execution_count": 8,
     "metadata": {},
     "output_type": "execute_result"
    }
   ],
   "source": [
    "generate_text(\"Give me 3 creative names for a coffee shop.\")"
   ]
  },
  {
   "cell_type": "code",
   "execution_count": null,
   "id": "8f8af82f",
   "metadata": {},
   "outputs": [],
   "source": []
  }
 ],
 "metadata": {
  "kernelspec": {
   "display_name": ".iaGen_venv",
   "language": "python",
   "name": "python3"
  },
  "language_info": {
   "codemirror_mode": {
    "name": "ipython",
    "version": 3
   },
   "file_extension": ".py",
   "mimetype": "text/x-python",
   "name": "python",
   "nbconvert_exporter": "python",
   "pygments_lexer": "ipython3",
   "version": "3.12.3"
  }
 },
 "nbformat": 4,
 "nbformat_minor": 5
}
